{
 "cells": [
  {
   "cell_type": "code",
   "execution_count": 1,
   "metadata": {},
   "outputs": [
    {
     "name": "stdout",
     "output_type": "stream",
     "text": [
      "381\n"
     ]
    }
   ],
   "source": [
    "root = open(\n",
    "    \"D:\\Chatbot\\Chatbot-University-Consultancy\\data\\invest_nlu_export.json\", 'r', encoding=\"UTF-8\")\n",
    "root_lines = root.readlines()\n",
    "print(len(root_lines))"
   ]
  },
  {
   "cell_type": "code",
   "execution_count": 4,
   "metadata": {},
   "outputs": [
    {
     "name": "stdout",
     "output_type": "stream",
     "text": [
      " Volume in drive D is New Volume\n",
      " Volume Serial Number is 18D5-0EFB\n",
      "\n",
      " Directory of d:\\Chatbot\\Chatbot\\convert\n",
      "\n",
      "08/27/2022  01:55 AM    <DIR>          .\n",
      "08/27/2022  01:55 AM    <DIR>          ..\n",
      "08/27/2022  01:46 AM            33,013 examples.txt\n",
      "08/27/2022  01:40 AM                 0 get_data.ipynb\n",
      "               2 File(s)         33,013 bytes\n",
      "               2 Dir(s)  128,543,756,288 bytes free\n"
     ]
    }
   ],
   "source": [
    "ls"
   ]
  },
  {
   "cell_type": "code",
   "execution_count": 13,
   "metadata": {},
   "outputs": [
    {
     "data": {
      "text/html": [
       "<div>\n",
       "<style scoped>\n",
       "    .dataframe tbody tr th:only-of-type {\n",
       "        vertical-align: middle;\n",
       "    }\n",
       "\n",
       "    .dataframe tbody tr th {\n",
       "        vertical-align: top;\n",
       "    }\n",
       "\n",
       "    .dataframe thead th {\n",
       "        text-align: right;\n",
       "    }\n",
       "</style>\n",
       "<table border=\"1\" class=\"dataframe\">\n",
       "  <thead>\n",
       "    <tr style=\"text-align: right;\">\n",
       "      <th></th>\n",
       "      <th>major_name</th>\n",
       "      <th>type_edu</th>\n",
       "      <th>point</th>\n",
       "      <th>career</th>\n",
       "      <th>tuition</th>\n",
       "      <th>subject_group</th>\n",
       "      <th>criteria</th>\n",
       "    </tr>\n",
       "  </thead>\n",
       "  <tbody>\n",
       "    <tr>\n",
       "      <th>0</th>\n",
       "      <td>kỹ thuật dệt</td>\n",
       "      <td>chính quy@đại trà</td>\n",
       "      <td>20.5</td>\n",
       "      <td>quản lý vận hành các dây chuyền sản xuất sợi d...</td>\n",
       "      <td>550000</td>\n",
       "      <td>a01@a1</td>\n",
       "      <td>90</td>\n",
       "    </tr>\n",
       "    <tr>\n",
       "      <th>1</th>\n",
       "      <td>kỹ thuật điện</td>\n",
       "      <td>chính quy@đại trà@kỹ sư tài năng</td>\n",
       "      <td>21.0</td>\n",
       "      <td>thiết kế thiết bị điện và điện tử công suất@th...</td>\n",
       "      <td>550000</td>\n",
       "      <td>a00@a</td>\n",
       "      <td>110</td>\n",
       "    </tr>\n",
       "    <tr>\n",
       "      <th>2</th>\n",
       "      <td>kỹ thuật hóa học</td>\n",
       "      <td>chính quy@đại trà@kỹ sư tài năng</td>\n",
       "      <td>21.5</td>\n",
       "      <td>quản lý vận hành và vận hành các hệ thống thiế...</td>\n",
       "      <td>550000</td>\n",
       "      <td>d07@d7</td>\n",
       "      <td>130</td>\n",
       "    </tr>\n",
       "    <tr>\n",
       "      <th>3</th>\n",
       "      <td>kỹ thuật môi trường</td>\n",
       "      <td>chính quy@đại trà</td>\n",
       "      <td>22.0</td>\n",
       "      <td>tư vấn thiết kế và thi công xây dựng công trìn...</td>\n",
       "      <td>550000</td>\n",
       "      <td>a00@a</td>\n",
       "      <td>150</td>\n",
       "    </tr>\n",
       "    <tr>\n",
       "      <th>4</th>\n",
       "      <td>kỹ thuật hàng không</td>\n",
       "      <td>chất lượng cao@tiên tiến</td>\n",
       "      <td>23.0</td>\n",
       "      <td>quản lý điều hành hoạt động bảo dưỡng máy bay@...</td>\n",
       "      <td>550000</td>\n",
       "      <td>a01@a1</td>\n",
       "      <td>190</td>\n",
       "    </tr>\n",
       "  </tbody>\n",
       "</table>\n",
       "</div>"
      ],
      "text/plain": [
       "            major_name                          type_edu  point  \\\n",
       "0         kỹ thuật dệt                 chính quy@đại trà   20.5   \n",
       "1        kỹ thuật điện  chính quy@đại trà@kỹ sư tài năng   21.0   \n",
       "2     kỹ thuật hóa học  chính quy@đại trà@kỹ sư tài năng   21.5   \n",
       "3  kỹ thuật môi trường                 chính quy@đại trà   22.0   \n",
       "4  kỹ thuật hàng không          chất lượng cao@tiên tiến   23.0   \n",
       "\n",
       "                                              career  tuition subject_group  \\\n",
       "0  quản lý vận hành các dây chuyền sản xuất sợi d...   550000        a01@a1   \n",
       "1  thiết kế thiết bị điện và điện tử công suất@th...   550000         a00@a   \n",
       "2  quản lý vận hành và vận hành các hệ thống thiế...   550000        d07@d7   \n",
       "3  tư vấn thiết kế và thi công xây dựng công trìn...   550000         a00@a   \n",
       "4  quản lý điều hành hoạt động bảo dưỡng máy bay@...   550000        a01@a1   \n",
       "\n",
       "   criteria  \n",
       "0        90  \n",
       "1       110  \n",
       "2       130  \n",
       "3       150  \n",
       "4       190  "
      ]
     },
     "execution_count": 13,
     "metadata": {},
     "output_type": "execute_result"
    }
   ],
   "source": [
    "import pandas as pd\n",
    "df = pd.read_csv(\"entities.csv\", encoding=\"utf-8\")\n",
    "df.head()\n"
   ]
  },
  {
   "cell_type": "code",
   "execution_count": 2,
   "metadata": {},
   "outputs": [],
   "source": [
    "f = open('examples.txt', 'w', encoding='utf-8')\n",
    "for line in root_lines:\n",
    "    f.write(line.split(',')[-2].replace('\"text\":\"','').replace('\"',''))\n",
    "    f.write('\\n')\n"
   ]
  },
  {
   "cell_type": "code",
   "execution_count": 20,
   "metadata": {},
   "outputs": [
    {
     "data": {
      "text/plain": [
       "34"
      ]
     },
     "execution_count": 20,
     "metadata": {},
     "output_type": "execute_result"
    }
   ],
   "source": [
    "major_name = list(df.major_name)\n",
    "len(major_name)\n"
   ]
  },
  {
   "cell_type": "code",
   "execution_count": 43,
   "metadata": {},
   "outputs": [],
   "source": [
    "f = open(\"major_info.txt\", 'w', encoding=\"UTF-8\")\n",
    "for major in major_name[:10]:\n",
    "    f.write('Cho em hỏi ngành ['+str(major)+\"](major_name)\"+'\\n')\n",
    "for major in major_name[10:20]:\n",
    "    f.write(\"Cho em hỏi về ngành [\"+str(major)+\"](major_name)\"+'\\n')\n",
    "for major in major_name[:20]:\n",
    "    f.write(\"Em muốn hỏi về ngành [\"+str(major)+\"](major_name)\"+\" ạ\"+'\\n')\n"
   ]
  },
  {
   "cell_type": "code",
   "execution_count": 47,
   "metadata": {},
   "outputs": [],
   "source": [
    "f = open(\"major_type_edu.txt\", 'w', encoding=\"UTF-8\")\n",
    "for major in major_name[:17]:\n",
    "    f.write('Cho em hỏi ngành ['+str(major)+\"](major_name) đào tạo những hệ nào ạ\"+'\\n')\n",
    "for major in major_name[17:]:\n",
    "    f.write('Ngành ['+str(major) +\n",
    "            \"](major_name) đào tạo những hệ nào ạ\"+'\\n')\n"
   ]
  },
  {
   "cell_type": "code",
   "execution_count": 49,
   "metadata": {},
   "outputs": [],
   "source": [
    "f = open(\"major_point.txt\", 'w', encoding=\"UTF-8\")\n",
    "for major in major_name[:10]:\n",
    "    f.write('Cho em hỏi ngành ['+str(major) +\n",
    "            \"](major_name) năm nay lấy bao nhiêu điểm ạ\"+'\\n')\n",
    "for major in major_name[10:20]:\n",
    "    f.write('Điểm sàn ngành ['+str(major) +\n",
    "            \"](major_name)\"+'\\n')\n",
    "for major in major_name[20:]:\n",
    "    f.write('Năm nay ngành ['+str(major) +\n",
    "            \"](major_name) lấy bao nhiêu điểm ạ\"+'\\n')\n"
   ]
  },
  {
   "cell_type": "code",
   "execution_count": 54,
   "metadata": {},
   "outputs": [],
   "source": [
    "f = open(\"major_career.txt\", 'w', encoding=\"UTF-8\")\n",
    "for major in major_name[:17]:\n",
    "    f.write('Cho em hỏi cơ hội làm việc của ngành ['+str(major) +\n",
    "            \"](major_name)\"+'\\n')\n",
    "for major in major_name[17:]:\n",
    "    f.write('Học xong ngành ['+str(major) +\n",
    "            \"](major_name) thì làm gì\"+'\\n')\n"
   ]
  },
  {
   "cell_type": "code",
   "execution_count": 58,
   "metadata": {},
   "outputs": [],
   "source": [
    "f = open(\"major_tuition.txt\", 'w', encoding=\"UTF-8\")\n",
    "for major in major_name:\n",
    "    f.write('Học phí của ngành ['+str(major) +\n",
    "            \"](major_name)\"+'\\n')\n"
   ]
  },
  {
   "cell_type": "code",
   "execution_count": 62,
   "metadata": {},
   "outputs": [],
   "source": [
    "f = open(\"major_subject_group.txt\", 'w', encoding=\"UTF-8\")\n",
    "for major in major_name[:17]:\n",
    "    f.write('Em muốn học ngành ['+str(major) +\n",
    "            \"](major_name) thì theo khối gì ạ\"+'\\n')\n",
    "for major in major_name[17:]:\n",
    "    f.write('Ngành ['+str(major) +\n",
    "            \"](major_name) thi khối gì\"+'\\n')\n"
   ]
  },
  {
   "cell_type": "code",
   "execution_count": 68,
   "metadata": {},
   "outputs": [],
   "source": [
    "f = open(\"major_criteria.txt\", 'w', encoding=\"UTF-8\")\n",
    "for major in major_name[:10]:\n",
    "    f.write('Cho em hỏi ngành ['+str(major) +\n",
    "            \"](major_name) năm nay lấy bao nhiêu chỉ tiêu\"+'\\n')\n",
    "for major in major_name[10:20]:\n",
    "    f.write('Chỉ tiêu ngành ['+str(major) +\n",
    "            \"](major_name)\"+'\\n')\n",
    "for major in major_name[20:]:\n",
    "    f.write('Ngành ['+str(major) +\n",
    "            \"](major_name) của trường mình nhận bao nhiêu sinh viên ạ\"+'\\n')\n"
   ]
  }
 ],
 "metadata": {
  "kernelspec": {
   "display_name": "Python 3.7.9 64-bit",
   "language": "python",
   "name": "python3"
  },
  "language_info": {
   "codemirror_mode": {
    "name": "ipython",
    "version": 3
   },
   "file_extension": ".py",
   "mimetype": "text/x-python",
   "name": "python",
   "nbconvert_exporter": "python",
   "pygments_lexer": "ipython3",
   "version": "3.7.9"
  },
  "orig_nbformat": 4,
  "vscode": {
   "interpreter": {
    "hash": "418e148e6ca117418dd5038ed82f296b9a828afe02c26d769599b0b888636945"
   }
  }
 },
 "nbformat": 4,
 "nbformat_minor": 2
}
